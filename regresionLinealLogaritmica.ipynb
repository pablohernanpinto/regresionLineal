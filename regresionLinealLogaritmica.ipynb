{
 "cells": [
  {
   "cell_type": "markdown",
   "metadata": {},
   "source": [
    "## Cargar DataFrame"
   ]
  },
  {
   "cell_type": "code",
   "execution_count": 5,
   "metadata": {},
   "outputs": [],
   "source": [
    "import pandas as pd"
   ]
  },
  {
   "cell_type": "code",
   "execution_count": 6,
   "metadata": {},
   "outputs": [],
   "source": [
    "df = pd.read_csv(\"Datos/dataset.csv\",sep=\";\")"
   ]
  },
  {
   "cell_type": "code",
   "execution_count": 7,
   "metadata": {},
   "outputs": [
    {
     "data": {
      "text/html": [
       "<div>\n",
       "<style scoped>\n",
       "    .dataframe tbody tr th:only-of-type {\n",
       "        vertical-align: middle;\n",
       "    }\n",
       "\n",
       "    .dataframe tbody tr th {\n",
       "        vertical-align: top;\n",
       "    }\n",
       "\n",
       "    .dataframe thead th {\n",
       "        text-align: right;\n",
       "    }\n",
       "</style>\n",
       "<table border=\"1\" class=\"dataframe\">\n",
       "  <thead>\n",
       "    <tr style=\"text-align: right;\">\n",
       "      <th></th>\n",
       "      <th>Valor</th>\n",
       "      <th>Area</th>\n",
       "      <th>Dist_Playa</th>\n",
       "      <th>Dist_Farmacia</th>\n",
       "    </tr>\n",
       "  </thead>\n",
       "  <tbody>\n",
       "    <tr>\n",
       "      <th>2224</th>\n",
       "      <td>166359</td>\n",
       "      <td>121</td>\n",
       "      <td>1.184168</td>\n",
       "      <td>0.832570</td>\n",
       "    </tr>\n",
       "    <tr>\n",
       "      <th>1147</th>\n",
       "      <td>116451</td>\n",
       "      <td>93</td>\n",
       "      <td>1.010073</td>\n",
       "      <td>0.885088</td>\n",
       "    </tr>\n",
       "    <tr>\n",
       "      <th>617</th>\n",
       "      <td>38817</td>\n",
       "      <td>55</td>\n",
       "      <td>9.205581</td>\n",
       "      <td>0.735525</td>\n",
       "    </tr>\n",
       "    <tr>\n",
       "      <th>2065</th>\n",
       "      <td>73937</td>\n",
       "      <td>63</td>\n",
       "      <td>0.028019</td>\n",
       "      <td>0.567365</td>\n",
       "    </tr>\n",
       "    <tr>\n",
       "      <th>3950</th>\n",
       "      <td>425139</td>\n",
       "      <td>144</td>\n",
       "      <td>0.308827</td>\n",
       "      <td>0.381591</td>\n",
       "    </tr>\n",
       "  </tbody>\n",
       "</table>\n",
       "</div>"
      ],
      "text/plain": [
       "       Valor  Area  Dist_Playa  Dist_Farmacia\n",
       "2224  166359   121    1.184168       0.832570\n",
       "1147  116451    93    1.010073       0.885088\n",
       "617    38817    55    9.205581       0.735525\n",
       "2065   73937    63    0.028019       0.567365\n",
       "3950  425139   144    0.308827       0.381591"
      ]
     },
     "execution_count": 7,
     "metadata": {},
     "output_type": "execute_result"
    }
   ],
   "source": [
    "df.sample(5)"
   ]
  },
  {
   "cell_type": "markdown",
   "metadata": {},
   "source": [
    "## Se analiza desde describe() para visualizar outliers"
   ]
  },
  {
   "cell_type": "code",
   "execution_count": 8,
   "metadata": {},
   "outputs": [
    {
     "data": {
      "text/html": [
       "<div>\n",
       "<style scoped>\n",
       "    .dataframe tbody tr th:only-of-type {\n",
       "        vertical-align: middle;\n",
       "    }\n",
       "\n",
       "    .dataframe tbody tr th {\n",
       "        vertical-align: top;\n",
       "    }\n",
       "\n",
       "    .dataframe thead th {\n",
       "        text-align: right;\n",
       "    }\n",
       "</style>\n",
       "<table border=\"1\" class=\"dataframe\">\n",
       "  <thead>\n",
       "    <tr style=\"text-align: right;\">\n",
       "      <th></th>\n",
       "      <th>Valor</th>\n",
       "      <th>Area</th>\n",
       "      <th>Dist_Playa</th>\n",
       "      <th>Dist_Farmacia</th>\n",
       "    </tr>\n",
       "  </thead>\n",
       "  <tbody>\n",
       "    <tr>\n",
       "      <th>count</th>\n",
       "      <td>5000.000</td>\n",
       "      <td>5000.000</td>\n",
       "      <td>5000.000</td>\n",
       "      <td>5000.000</td>\n",
       "    </tr>\n",
       "    <tr>\n",
       "      <th>mean</th>\n",
       "      <td>259320.947</td>\n",
       "      <td>121.945</td>\n",
       "      <td>3.022</td>\n",
       "      <td>0.497</td>\n",
       "    </tr>\n",
       "    <tr>\n",
       "      <th>std</th>\n",
       "      <td>348108.851</td>\n",
       "      <td>90.537</td>\n",
       "      <td>3.171</td>\n",
       "      <td>0.291</td>\n",
       "    </tr>\n",
       "    <tr>\n",
       "      <th>min</th>\n",
       "      <td>13863.000</td>\n",
       "      <td>16.000</td>\n",
       "      <td>0.000</td>\n",
       "      <td>0.000</td>\n",
       "    </tr>\n",
       "    <tr>\n",
       "      <th>25%</th>\n",
       "      <td>85028.000</td>\n",
       "      <td>70.000</td>\n",
       "      <td>0.438</td>\n",
       "      <td>0.239</td>\n",
       "    </tr>\n",
       "    <tr>\n",
       "      <th>50%</th>\n",
       "      <td>151571.000</td>\n",
       "      <td>93.000</td>\n",
       "      <td>1.477</td>\n",
       "      <td>0.503</td>\n",
       "    </tr>\n",
       "    <tr>\n",
       "      <th>75%</th>\n",
       "      <td>293900.000</td>\n",
       "      <td>146.000</td>\n",
       "      <td>5.605</td>\n",
       "      <td>0.748</td>\n",
       "    </tr>\n",
       "    <tr>\n",
       "      <th>max</th>\n",
       "      <td>4621072.000</td>\n",
       "      <td>2000.000</td>\n",
       "      <td>17.963</td>\n",
       "      <td>1.000</td>\n",
       "    </tr>\n",
       "  </tbody>\n",
       "</table>\n",
       "</div>"
      ],
      "text/plain": [
       "             Valor      Area  Dist_Playa  Dist_Farmacia\n",
       "count     5000.000  5000.000    5000.000       5000.000\n",
       "mean    259320.947   121.945       3.022          0.497\n",
       "std     348108.851    90.537       3.171          0.291\n",
       "min      13863.000    16.000       0.000          0.000\n",
       "25%      85028.000    70.000       0.438          0.239\n",
       "50%     151571.000    93.000       1.477          0.503\n",
       "75%     293900.000   146.000       5.605          0.748\n",
       "max    4621072.000  2000.000      17.963          1.000"
      ]
     },
     "execution_count": 8,
     "metadata": {},
     "output_type": "execute_result"
    }
   ],
   "source": [
    "df.describe().round(3)"
   ]
  },
  {
   "cell_type": "code",
   "execution_count": 9,
   "metadata": {},
   "outputs": [
    {
     "data": {
      "text/html": [
       "<div>\n",
       "<style scoped>\n",
       "    .dataframe tbody tr th:only-of-type {\n",
       "        vertical-align: middle;\n",
       "    }\n",
       "\n",
       "    .dataframe tbody tr th {\n",
       "        vertical-align: top;\n",
       "    }\n",
       "\n",
       "    .dataframe thead th {\n",
       "        text-align: right;\n",
       "    }\n",
       "</style>\n",
       "<table border=\"1\" class=\"dataframe\">\n",
       "  <thead>\n",
       "    <tr style=\"text-align: right;\">\n",
       "      <th></th>\n",
       "      <th>Valor</th>\n",
       "      <th>Area</th>\n",
       "      <th>Dist_Playa</th>\n",
       "      <th>Dist_Farmacia</th>\n",
       "    </tr>\n",
       "  </thead>\n",
       "  <tbody>\n",
       "    <tr>\n",
       "      <th>count</th>\n",
       "      <td>5.000000e+03</td>\n",
       "      <td>5000.000000</td>\n",
       "      <td>5000.000000</td>\n",
       "      <td>5000.000000</td>\n",
       "    </tr>\n",
       "    <tr>\n",
       "      <th>mean</th>\n",
       "      <td>2.593209e+05</td>\n",
       "      <td>121.944800</td>\n",
       "      <td>4.021920</td>\n",
       "      <td>1.497160</td>\n",
       "    </tr>\n",
       "    <tr>\n",
       "      <th>std</th>\n",
       "      <td>3.481089e+05</td>\n",
       "      <td>90.536969</td>\n",
       "      <td>3.170933</td>\n",
       "      <td>0.291355</td>\n",
       "    </tr>\n",
       "    <tr>\n",
       "      <th>min</th>\n",
       "      <td>1.386300e+04</td>\n",
       "      <td>16.000000</td>\n",
       "      <td>1.000000</td>\n",
       "      <td>1.000331</td>\n",
       "    </tr>\n",
       "    <tr>\n",
       "      <th>25%</th>\n",
       "      <td>8.502800e+04</td>\n",
       "      <td>70.000000</td>\n",
       "      <td>1.438417</td>\n",
       "      <td>1.238640</td>\n",
       "    </tr>\n",
       "    <tr>\n",
       "      <th>50%</th>\n",
       "      <td>1.515710e+05</td>\n",
       "      <td>93.000000</td>\n",
       "      <td>2.476958</td>\n",
       "      <td>1.503260</td>\n",
       "    </tr>\n",
       "    <tr>\n",
       "      <th>75%</th>\n",
       "      <td>2.939000e+05</td>\n",
       "      <td>146.000000</td>\n",
       "      <td>6.605379</td>\n",
       "      <td>1.747737</td>\n",
       "    </tr>\n",
       "    <tr>\n",
       "      <th>max</th>\n",
       "      <td>4.621072e+06</td>\n",
       "      <td>2000.000000</td>\n",
       "      <td>18.962942</td>\n",
       "      <td>1.999987</td>\n",
       "    </tr>\n",
       "  </tbody>\n",
       "</table>\n",
       "</div>"
      ],
      "text/plain": [
       "              Valor         Area   Dist_Playa  Dist_Farmacia\n",
       "count  5.000000e+03  5000.000000  5000.000000    5000.000000\n",
       "mean   2.593209e+05   121.944800     4.021920       1.497160\n",
       "std    3.481089e+05    90.536969     3.170933       0.291355\n",
       "min    1.386300e+04    16.000000     1.000000       1.000331\n",
       "25%    8.502800e+04    70.000000     1.438417       1.238640\n",
       "50%    1.515710e+05    93.000000     2.476958       1.503260\n",
       "75%    2.939000e+05   146.000000     6.605379       1.747737\n",
       "max    4.621072e+06  2000.000000    18.962942       1.999987"
      ]
     },
     "execution_count": 9,
     "metadata": {},
     "output_type": "execute_result"
    }
   ],
   "source": [
    "df_arreglo = df\n",
    "df_arreglo[\"Dist_Playa\"] = df_arreglo[\"Dist_Playa\"]+ 1 \n",
    "df_arreglo[\"Dist_Farmacia\"] = df_arreglo[\"Dist_Farmacia\"]+ 1 \n",
    "df_arreglo.describe()\n"
   ]
  },
  {
   "cell_type": "markdown",
   "metadata": {},
   "source": [
    "se puede observar que entre la media y el maximo entre valor y area hay mucha diferencia esto podria indicar que existen outliers"
   ]
  },
  {
   "cell_type": "markdown",
   "metadata": {},
   "source": [
    "## Se genera la matriz de correlacion"
   ]
  },
  {
   "cell_type": "code",
   "execution_count": 10,
   "metadata": {},
   "outputs": [
    {
     "data": {
      "text/html": [
       "<div>\n",
       "<style scoped>\n",
       "    .dataframe tbody tr th:only-of-type {\n",
       "        vertical-align: middle;\n",
       "    }\n",
       "\n",
       "    .dataframe tbody tr th {\n",
       "        vertical-align: top;\n",
       "    }\n",
       "\n",
       "    .dataframe thead th {\n",
       "        text-align: right;\n",
       "    }\n",
       "</style>\n",
       "<table border=\"1\" class=\"dataframe\">\n",
       "  <thead>\n",
       "    <tr style=\"text-align: right;\">\n",
       "      <th></th>\n",
       "      <th>Valor</th>\n",
       "      <th>Area</th>\n",
       "      <th>Dist_Playa</th>\n",
       "      <th>Dist_Farmacia</th>\n",
       "    </tr>\n",
       "  </thead>\n",
       "  <tbody>\n",
       "    <tr>\n",
       "      <th>Valor</th>\n",
       "      <td>1.000</td>\n",
       "      <td>0.711</td>\n",
       "      <td>-0.367</td>\n",
       "      <td>-0.024</td>\n",
       "    </tr>\n",
       "    <tr>\n",
       "      <th>Area</th>\n",
       "      <td>0.711</td>\n",
       "      <td>1.000</td>\n",
       "      <td>-0.283</td>\n",
       "      <td>-0.031</td>\n",
       "    </tr>\n",
       "    <tr>\n",
       "      <th>Dist_Playa</th>\n",
       "      <td>-0.367</td>\n",
       "      <td>-0.283</td>\n",
       "      <td>1.000</td>\n",
       "      <td>0.026</td>\n",
       "    </tr>\n",
       "    <tr>\n",
       "      <th>Dist_Farmacia</th>\n",
       "      <td>-0.024</td>\n",
       "      <td>-0.031</td>\n",
       "      <td>0.026</td>\n",
       "      <td>1.000</td>\n",
       "    </tr>\n",
       "  </tbody>\n",
       "</table>\n",
       "</div>"
      ],
      "text/plain": [
       "               Valor   Area  Dist_Playa  Dist_Farmacia\n",
       "Valor          1.000  0.711      -0.367         -0.024\n",
       "Area           0.711  1.000      -0.283         -0.031\n",
       "Dist_Playa    -0.367 -0.283       1.000          0.026\n",
       "Dist_Farmacia -0.024 -0.031       0.026          1.000"
      ]
     },
     "execution_count": 10,
     "metadata": {},
     "output_type": "execute_result"
    }
   ],
   "source": [
    "df.corr().round(3)"
   ]
  },
  {
   "cell_type": "markdown",
   "metadata": {},
   "source": [
    "se puede observar que la relacion entre la distancia_farmacia es muy pequeña, por lo que esto empieza a plantear que no es una variable descriptiva significativa para la regresion lineal"
   ]
  },
  {
   "cell_type": "markdown",
   "metadata": {},
   "source": [
    "## Se realizara un boxplot y una distribucion de frecuencias para visualizar la desitribucion y su simetria o asimetria"
   ]
  },
  {
   "cell_type": "code",
   "execution_count": 11,
   "metadata": {},
   "outputs": [],
   "source": [
    "import seaborn as sns"
   ]
  },
  {
   "cell_type": "code",
   "execution_count": 12,
   "metadata": {},
   "outputs": [
    {
     "data": {
      "text/plain": [
       "<Axes: title={'center': 'Precio de los Inmuebles'}, xlabel='Valor monetario'>"
      ]
     },
     "execution_count": 12,
     "metadata": {},
     "output_type": "execute_result"
    },
    {
     "data": {
      "image/png": "[encoded data removed]",
      "text/plain": [
       "<Figure size 2000x500 with 1 Axes>"
      ]
     },
     "metadata": {},
     "output_type": "display_data"
    }
   ],
   "source": [
    "ax = sns.boxplot(data=df['Valor'],orient='h')\n",
    "ax.figure.set_size_inches(20, 5)\n",
    "ax.set_title('Precio de los Inmuebles', fontsize=20)\n",
    "ax.set_xlabel('Valor monetario', fontsize=16)\n",
    "ax"
   ]
  },
  {
   "cell_type": "markdown",
   "metadata": {},
   "source": [
    "Desde aqui se puede analizar que correspondria a tener una gran cantidad de outliners que igualmente pueden corresponder a una distribucion asimetrica a la derecha"
   ]
  },
  {
   "cell_type": "code",
   "execution_count": 13,
   "metadata": {},
   "outputs": [
    {
     "name": "stderr",
     "output_type": "stream",
     "text": [
      "C:\\Users\\Pablo\\AppData\\Local\\Temp\\ipykernel_11104\\618172945.py:1: UserWarning: \n",
      "\n",
      "`distplot` is a deprecated function and will be removed in seaborn v0.14.0.\n",
      "\n",
      "Please adapt your code to use either `displot` (a figure-level function with\n",
      "similar flexibility) or `histplot` (an axes-level function for histograms).\n",
      "\n",
      "For a guide to updating your code to use the new functions, please see\n",
      "https://gist.github.com/mwaskom/de44147ed2974457ad6372750bbe5751\n",
      "\n",
      "  ax = sns.distplot(df['Valor'])\n"
     ]
    },
    {
     "data": {
      "text/plain": [
       "<Axes: title={'center': 'Distribuición de Frecuencias'}, xlabel='Valor monetario', ylabel='Density'>"
      ]
     },
     "execution_count": 13,
     "metadata": {},
     "output_type": "execute_result"
    },
    {
     "data": {
      "image/png": "[encoded data removed]",
      "text/plain": [
       "<Figure size 2000x600 with 1 Axes>"
      ]
     },
     "metadata": {},
     "output_type": "display_data"
    }
   ],
   "source": [
    "ax = sns.distplot(df['Valor'])\n",
    "ax.figure.set_size_inches(20, 6)\n",
    "ax.set_title('Distribuición de Frecuencias', fontsize=20)\n",
    "ax.set_xlabel('Valor monetario', fontsize=16)\n",
    "ax"
   ]
  },
  {
   "cell_type": "markdown",
   "metadata": {},
   "source": [
    "una vez comprobada la asimetria es necesario aplicar algun metodo para transformarlo en una distribucion normal"
   ]
  },
  {
   "cell_type": "markdown",
   "metadata": {},
   "source": [
    "## Para esto se utilizara la transformacion logaritmica"
   ]
  },
  {
   "cell_type": "code",
   "execution_count": 14,
   "metadata": {},
   "outputs": [],
   "source": [
    "import numpy as np"
   ]
  },
  {
   "cell_type": "markdown",
   "metadata": {},
   "source": [
    "Es necesario recordar que el logatirmo de 0 seria indefinido, por lo tanto, es necesario sumar uno a los elementos en que su minimo sea 0"
   ]
  },
  {
   "cell_type": "code",
   "execution_count": 15,
   "metadata": {},
   "outputs": [],
   "source": [
    "df_log = pd.DataFrame()"
   ]
  },
  {
   "cell_type": "code",
   "execution_count": 16,
   "metadata": {},
   "outputs": [
    {
     "data": {
      "text/html": [
       "<div>\n",
       "<style scoped>\n",
       "    .dataframe tbody tr th:only-of-type {\n",
       "        vertical-align: middle;\n",
       "    }\n",
       "\n",
       "    .dataframe tbody tr th {\n",
       "        vertical-align: top;\n",
       "    }\n",
       "\n",
       "    .dataframe thead th {\n",
       "        text-align: right;\n",
       "    }\n",
       "</style>\n",
       "<table border=\"1\" class=\"dataframe\">\n",
       "  <thead>\n",
       "    <tr style=\"text-align: right;\">\n",
       "      <th></th>\n",
       "    </tr>\n",
       "  </thead>\n",
       "  <tbody>\n",
       "  </tbody>\n",
       "</table>\n",
       "</div>"
      ],
      "text/plain": [
       "Empty DataFrame\n",
       "Columns: []\n",
       "Index: []"
      ]
     },
     "execution_count": 16,
     "metadata": {},
     "output_type": "execute_result"
    }
   ],
   "source": [
    "df_log"
   ]
  },
  {
   "cell_type": "code",
   "execution_count": 17,
   "metadata": {},
   "outputs": [],
   "source": [
    "df_log['Log_Valor'] = np.log(df['Valor'])\n",
    "df_log['Log_Area'] = np.log(df['Area'])\n",
    "df_log['Log_Dist_Playa'] = np.log(df['Dist_Playa']+1)\n",
    "df_log['Log_Dist_Farmacia'] = np.log(df['Dist_Farmacia']+1)"
   ]
  },
  {
   "cell_type": "code",
   "execution_count": 18,
   "metadata": {},
   "outputs": [
    {
     "data": {
      "text/html": [
       "<div>\n",
       "<style scoped>\n",
       "    .dataframe tbody tr th:only-of-type {\n",
       "        vertical-align: middle;\n",
       "    }\n",
       "\n",
       "    .dataframe tbody tr th {\n",
       "        vertical-align: top;\n",
       "    }\n",
       "\n",
       "    .dataframe thead th {\n",
       "        text-align: right;\n",
       "    }\n",
       "</style>\n",
       "<table border=\"1\" class=\"dataframe\">\n",
       "  <thead>\n",
       "    <tr style=\"text-align: right;\">\n",
       "      <th></th>\n",
       "      <th>Log_Valor</th>\n",
       "      <th>Log_Area</th>\n",
       "      <th>Log_Dist_Playa</th>\n",
       "      <th>Log_Dist_Farmacia</th>\n",
       "    </tr>\n",
       "  </thead>\n",
       "  <tbody>\n",
       "    <tr>\n",
       "      <th>0</th>\n",
       "      <td>13.653317</td>\n",
       "      <td>5.634790</td>\n",
       "      <td>0.806889</td>\n",
       "      <td>1.027344</td>\n",
       "    </tr>\n",
       "    <tr>\n",
       "      <th>1</th>\n",
       "      <td>12.021903</td>\n",
       "      <td>5.337538</td>\n",
       "      <td>1.066136</td>\n",
       "      <td>0.758230</td>\n",
       "    </tr>\n",
       "    <tr>\n",
       "      <th>2</th>\n",
       "      <td>13.063354</td>\n",
       "      <td>5.135798</td>\n",
       "      <td>0.722476</td>\n",
       "      <td>0.885138</td>\n",
       "    </tr>\n",
       "    <tr>\n",
       "      <th>3</th>\n",
       "      <td>11.529429</td>\n",
       "      <td>4.605170</td>\n",
       "      <td>1.585797</td>\n",
       "      <td>0.926266</td>\n",
       "    </tr>\n",
       "    <tr>\n",
       "      <th>4</th>\n",
       "      <td>12.915718</td>\n",
       "      <td>5.099866</td>\n",
       "      <td>0.806368</td>\n",
       "      <td>0.784985</td>\n",
       "    </tr>\n",
       "    <tr>\n",
       "      <th>...</th>\n",
       "      <td>...</td>\n",
       "      <td>...</td>\n",
       "      <td>...</td>\n",
       "      <td>...</td>\n",
       "    </tr>\n",
       "    <tr>\n",
       "      <th>4995</th>\n",
       "      <td>11.819380</td>\n",
       "      <td>4.248495</td>\n",
       "      <td>0.907999</td>\n",
       "      <td>1.012652</td>\n",
       "    </tr>\n",
       "    <tr>\n",
       "      <th>4996</th>\n",
       "      <td>12.021903</td>\n",
       "      <td>4.852030</td>\n",
       "      <td>2.360334</td>\n",
       "      <td>0.862962</td>\n",
       "    </tr>\n",
       "    <tr>\n",
       "      <th>4997</th>\n",
       "      <td>11.904116</td>\n",
       "      <td>4.248495</td>\n",
       "      <td>0.812324</td>\n",
       "      <td>0.884349</td>\n",
       "    </tr>\n",
       "    <tr>\n",
       "      <th>4998</th>\n",
       "      <td>10.466526</td>\n",
       "      <td>4.007333</td>\n",
       "      <td>2.392903</td>\n",
       "      <td>0.986176</td>\n",
       "    </tr>\n",
       "    <tr>\n",
       "      <th>4999</th>\n",
       "      <td>11.529429</td>\n",
       "      <td>4.543295</td>\n",
       "      <td>1.020450</td>\n",
       "      <td>0.707009</td>\n",
       "    </tr>\n",
       "  </tbody>\n",
       "</table>\n",
       "<p>5000 rows × 4 columns</p>\n",
       "</div>"
      ],
      "text/plain": [
       "      Log_Valor  Log_Area  Log_Dist_Playa  Log_Dist_Farmacia\n",
       "0     13.653317  5.634790        0.806889           1.027344\n",
       "1     12.021903  5.337538        1.066136           0.758230\n",
       "2     13.063354  5.135798        0.722476           0.885138\n",
       "3     11.529429  4.605170        1.585797           0.926266\n",
       "4     12.915718  5.099866        0.806368           0.784985\n",
       "...         ...       ...             ...                ...\n",
       "4995  11.819380  4.248495        0.907999           1.012652\n",
       "4996  12.021903  4.852030        2.360334           0.862962\n",
       "4997  11.904116  4.248495        0.812324           0.884349\n",
       "4998  10.466526  4.007333        2.392903           0.986176\n",
       "4999  11.529429  4.543295        1.020450           0.707009\n",
       "\n",
       "[5000 rows x 4 columns]"
      ]
     },
     "execution_count": 18,
     "metadata": {},
     "output_type": "execute_result"
    }
   ],
   "source": [
    "df_log"
   ]
  },
  {
   "cell_type": "markdown",
   "metadata": {},
   "source": [
    "## una vez realizada la transformacion se visualizaran los datos"
   ]
  },
  {
   "cell_type": "code",
   "execution_count": 19,
   "metadata": {},
   "outputs": [
    {
     "data": {
      "text/plain": [
       "<Axes: title={'center': 'Precio de los Inmuebles'}, xlabel='Valor monetario'>"
      ]
     },
     "execution_count": 19,
     "metadata": {},
     "output_type": "execute_result"
    },
    {
     "data": {
      "image/png": "[encoded data removed]",
      "text/plain": [
       "<Figure size 2000x500 with 1 Axes>"
      ]
     },
     "metadata": {},
     "output_type": "display_data"
    }
   ],
   "source": [
    "ax = sns.boxplot(data=df_log['Log_Valor'],orient='h')\n",
    "ax.figure.set_size_inches(20, 5)\n",
    "ax.set_title('Precio de los Inmuebles', fontsize=20)\n",
    "ax.set_xlabel('Valor monetario', fontsize=16)\n",
    "ax"
   ]
  },
  {
   "cell_type": "code",
   "execution_count": 20,
   "metadata": {},
   "outputs": [
    {
     "name": "stderr",
     "output_type": "stream",
     "text": [
      "C:\\Users\\Pablo\\AppData\\Local\\Temp\\ipykernel_11104\\3367453217.py:1: UserWarning: \n",
      "\n",
      "`distplot` is a deprecated function and will be removed in seaborn v0.14.0.\n",
      "\n",
      "Please adapt your code to use either `displot` (a figure-level function with\n",
      "similar flexibility) or `histplot` (an axes-level function for histograms).\n",
      "\n",
      "For a guide to updating your code to use the new functions, please see\n",
      "https://gist.github.com/mwaskom/de44147ed2974457ad6372750bbe5751\n",
      "\n",
      "  ax = sns.distplot(df_log['Log_Valor'])\n"
     ]
    },
    {
     "data": {
      "text/plain": [
       "<Axes: title={'center': 'Distribuición de Frecuencias'}, xlabel='Valor monetario', ylabel='Density'>"
      ]
     },
     "execution_count": 20,
     "metadata": {},
     "output_type": "execute_result"
    },
    {
     "data": {
      "image/png": "[encoded data removed]",
      "text/plain": [
       "<Figure size 2000x600 with 1 Axes>"
      ]
     },
     "metadata": {},
     "output_type": "display_data"
    }
   ],
   "source": [
    "ax = sns.distplot(df_log['Log_Valor'])\n",
    "ax.figure.set_size_inches(20, 6)\n",
    "ax.set_title('Distribuición de Frecuencias', fontsize=20)\n",
    "ax.set_xlabel('Valor monetario', fontsize=16)\n",
    "ax"
   ]
  },
  {
   "cell_type": "markdown",
   "metadata": {},
   "source": [
    "Si bien no es una distribucion perfectamente simetrica es posible comprobar pruebas de hipotesis y comprobar si es posible aplicar para la regresion lineal"
   ]
  },
  {
   "cell_type": "code",
   "execution_count": 21,
   "metadata": {},
   "outputs": [
    {
     "data": {
      "text/html": [
       "<div>\n",
       "<style scoped>\n",
       "    .dataframe tbody tr th:only-of-type {\n",
       "        vertical-align: middle;\n",
       "    }\n",
       "\n",
       "    .dataframe tbody tr th {\n",
       "        vertical-align: top;\n",
       "    }\n",
       "\n",
       "    .dataframe thead th {\n",
       "        text-align: right;\n",
       "    }\n",
       "</style>\n",
       "<table border=\"1\" class=\"dataframe\">\n",
       "  <thead>\n",
       "    <tr style=\"text-align: right;\">\n",
       "      <th></th>\n",
       "      <th>Log_Valor</th>\n",
       "      <th>Log_Area</th>\n",
       "      <th>Log_Dist_Playa</th>\n",
       "      <th>Log_Dist_Farmacia</th>\n",
       "    </tr>\n",
       "  </thead>\n",
       "  <tbody>\n",
       "    <tr>\n",
       "      <th>Log_Valor</th>\n",
       "      <td>1.000000</td>\n",
       "      <td>0.801234</td>\n",
       "      <td>-0.642352</td>\n",
       "      <td>-0.036345</td>\n",
       "    </tr>\n",
       "    <tr>\n",
       "      <th>Log_Area</th>\n",
       "      <td>0.801234</td>\n",
       "      <td>1.000000</td>\n",
       "      <td>-0.333221</td>\n",
       "      <td>-0.036794</td>\n",
       "    </tr>\n",
       "    <tr>\n",
       "      <th>Log_Dist_Playa</th>\n",
       "      <td>-0.642352</td>\n",
       "      <td>-0.333221</td>\n",
       "      <td>1.000000</td>\n",
       "      <td>0.026134</td>\n",
       "    </tr>\n",
       "    <tr>\n",
       "      <th>Log_Dist_Farmacia</th>\n",
       "      <td>-0.036345</td>\n",
       "      <td>-0.036794</td>\n",
       "      <td>0.026134</td>\n",
       "      <td>1.000000</td>\n",
       "    </tr>\n",
       "  </tbody>\n",
       "</table>\n",
       "</div>"
      ],
      "text/plain": [
       "                   Log_Valor  Log_Area  Log_Dist_Playa  Log_Dist_Farmacia\n",
       "Log_Valor           1.000000  0.801234       -0.642352          -0.036345\n",
       "Log_Area            0.801234  1.000000       -0.333221          -0.036794\n",
       "Log_Dist_Playa     -0.642352 -0.333221        1.000000           0.026134\n",
       "Log_Dist_Farmacia  -0.036345 -0.036794        0.026134           1.000000"
      ]
     },
     "execution_count": 21,
     "metadata": {},
     "output_type": "execute_result"
    }
   ],
   "source": [
    "df_log.corr()"
   ]
  },
  {
   "cell_type": "markdown",
   "metadata": {},
   "source": [
    "## Se genera los graficos de dispersion para visualizar cada variable explicativa con la variable dependiente"
   ]
  },
  {
   "cell_type": "code",
   "execution_count": 22,
   "metadata": {},
   "outputs": [
    {
     "data": {
      "text/plain": [
       "<seaborn.axisgrid.PairGrid at 0x190f7f96990>"
      ]
     },
     "execution_count": 22,
     "metadata": {},
     "output_type": "execute_result"
    },
    {
     "data": {
      "image/png": "[encoded data removed]",
      "text/plain": [
       "<Figure size 750x250 with 3 Axes>"
      ]
     },
     "metadata": {},
     "output_type": "display_data"
    }
   ],
   "source": [
    "ax = sns.pairplot(df_log,y_vars='Log_Valor',x_vars=['Log_Area','Log_Dist_Playa','Log_Dist_Farmacia'],kind='reg')\n",
    "ax.fig.suptitle('Dispersión entre las Variables Transformadas', fontsize=20, y=1.05)\n",
    "\n",
    "#\tValor\tArea\tDist_Playa\tDist_Farmacia\tLog_Dist_Playa\tLog_Dist_Farmacia\n",
    "ax "
   ]
  },
  {
   "cell_type": "markdown",
   "metadata": {},
   "source": [
    "Se puede observar que hay ciertas tendencias en Log_Area y Log_Dist_Playa, sin embargo, con farmacia no se observa una tendencia"
   ]
  },
  {
   "cell_type": "markdown",
   "metadata": {},
   "source": [
    "## se realiza una la separacion entre datos de prueba y entrenamiento"
   ]
  },
  {
   "cell_type": "code",
   "execution_count": 23,
   "metadata": {},
   "outputs": [],
   "source": [
    "from sklearn.model_selection import train_test_split"
   ]
  },
  {
   "cell_type": "code",
   "execution_count": 24,
   "metadata": {},
   "outputs": [],
   "source": [
    "y = df_log['Log_Valor']"
   ]
  },
  {
   "cell_type": "code",
   "execution_count": 25,
   "metadata": {},
   "outputs": [],
   "source": [
    "x = df_log[['Log_Area','Log_Dist_Playa','Log_Dist_Farmacia']]\n"
   ]
  },
  {
   "cell_type": "code",
   "execution_count": 26,
   "metadata": {},
   "outputs": [],
   "source": [
    "X_train, X_test, y_train, y_test = train_test_split(x, y, test_size=0.2, random_state=2811) #para facilitar se utiliza las variables de la documentacion"
   ]
  },
  {
   "cell_type": "markdown",
   "metadata": {},
   "source": [
    "## Se realiza la estimacion del modelo de regresion lineal"
   ]
  },
  {
   "cell_type": "code",
   "execution_count": 27,
   "metadata": {},
   "outputs": [],
   "source": [
    "import statsmodels.api as sm"
   ]
  },
  {
   "cell_type": "markdown",
   "metadata": {},
   "source": [
    "Cuando se realiza una transformacion logaritmica no se contempla la constante de la formula por lo tanto hay que agregarla manualmente"
   ]
  },
  {
   "cell_type": "code",
   "execution_count": 28,
   "metadata": {},
   "outputs": [
    {
     "data": {
      "text/html": [
       "<div>\n",
       "<style scoped>\n",
       "    .dataframe tbody tr th:only-of-type {\n",
       "        vertical-align: middle;\n",
       "    }\n",
       "\n",
       "    .dataframe tbody tr th {\n",
       "        vertical-align: top;\n",
       "    }\n",
       "\n",
       "    .dataframe thead th {\n",
       "        text-align: right;\n",
       "    }\n",
       "</style>\n",
       "<table border=\"1\" class=\"dataframe\">\n",
       "  <thead>\n",
       "    <tr style=\"text-align: right;\">\n",
       "      <th></th>\n",
       "      <th>const</th>\n",
       "      <th>Log_Area</th>\n",
       "      <th>Log_Dist_Playa</th>\n",
       "      <th>Log_Dist_Farmacia</th>\n",
       "    </tr>\n",
       "  </thead>\n",
       "  <tbody>\n",
       "    <tr>\n",
       "      <th>2661</th>\n",
       "      <td>1.0</td>\n",
       "      <td>5.945421</td>\n",
       "      <td>0.693147</td>\n",
       "      <td>0.902440</td>\n",
       "    </tr>\n",
       "    <tr>\n",
       "      <th>912</th>\n",
       "      <td>1.0</td>\n",
       "      <td>3.135494</td>\n",
       "      <td>1.293497</td>\n",
       "      <td>1.040729</td>\n",
       "    </tr>\n",
       "    <tr>\n",
       "      <th>3042</th>\n",
       "      <td>1.0</td>\n",
       "      <td>4.317488</td>\n",
       "      <td>1.948655</td>\n",
       "      <td>0.965753</td>\n",
       "    </tr>\n",
       "    <tr>\n",
       "      <th>141</th>\n",
       "      <td>1.0</td>\n",
       "      <td>3.401197</td>\n",
       "      <td>0.860375</td>\n",
       "      <td>1.037235</td>\n",
       "    </tr>\n",
       "    <tr>\n",
       "      <th>3854</th>\n",
       "      <td>1.0</td>\n",
       "      <td>5.676754</td>\n",
       "      <td>0.709373</td>\n",
       "      <td>0.745396</td>\n",
       "    </tr>\n",
       "    <tr>\n",
       "      <th>...</th>\n",
       "      <td>...</td>\n",
       "      <td>...</td>\n",
       "      <td>...</td>\n",
       "      <td>...</td>\n",
       "    </tr>\n",
       "    <tr>\n",
       "      <th>3657</th>\n",
       "      <td>1.0</td>\n",
       "      <td>5.075174</td>\n",
       "      <td>2.147638</td>\n",
       "      <td>0.873797</td>\n",
       "    </tr>\n",
       "    <tr>\n",
       "      <th>979</th>\n",
       "      <td>1.0</td>\n",
       "      <td>4.174387</td>\n",
       "      <td>2.392039</td>\n",
       "      <td>0.774437</td>\n",
       "    </tr>\n",
       "    <tr>\n",
       "      <th>2389</th>\n",
       "      <td>1.0</td>\n",
       "      <td>4.394449</td>\n",
       "      <td>1.594623</td>\n",
       "      <td>0.918850</td>\n",
       "    </tr>\n",
       "    <tr>\n",
       "      <th>447</th>\n",
       "      <td>1.0</td>\n",
       "      <td>3.951244</td>\n",
       "      <td>2.275281</td>\n",
       "      <td>0.807733</td>\n",
       "    </tr>\n",
       "    <tr>\n",
       "      <th>2008</th>\n",
       "      <td>1.0</td>\n",
       "      <td>4.406719</td>\n",
       "      <td>1.861253</td>\n",
       "      <td>0.997793</td>\n",
       "    </tr>\n",
       "  </tbody>\n",
       "</table>\n",
       "<p>4000 rows × 4 columns</p>\n",
       "</div>"
      ],
      "text/plain": [
       "      const  Log_Area  Log_Dist_Playa  Log_Dist_Farmacia\n",
       "2661    1.0  5.945421        0.693147           0.902440\n",
       "912     1.0  3.135494        1.293497           1.040729\n",
       "3042    1.0  4.317488        1.948655           0.965753\n",
       "141     1.0  3.401197        0.860375           1.037235\n",
       "3854    1.0  5.676754        0.709373           0.745396\n",
       "...     ...       ...             ...                ...\n",
       "3657    1.0  5.075174        2.147638           0.873797\n",
       "979     1.0  4.174387        2.392039           0.774437\n",
       "2389    1.0  4.394449        1.594623           0.918850\n",
       "447     1.0  3.951244        2.275281           0.807733\n",
       "2008    1.0  4.406719        1.861253           0.997793\n",
       "\n",
       "[4000 rows x 4 columns]"
      ]
     },
     "execution_count": 28,
     "metadata": {},
     "output_type": "execute_result"
    }
   ],
   "source": [
    "X_train_Con_Constante = sm.add_constant(X_train)\n",
    "X_train_Con_Constante"
   ]
  },
  {
   "cell_type": "code",
   "execution_count": 29,
   "metadata": {},
   "outputs": [],
   "source": [
    "modelo_statsmodels = sm.OLS(y_train,X_train_Con_Constante,hasconst=True).fit()"
   ]
  },
  {
   "cell_type": "markdown",
   "metadata": {},
   "source": [
    "## se analiza las estadisticas con los siguientes test de hipotesis\n",
    "\n",
    "test de significancia conjunta de parametros.\n",
    "    prob (F-Statistic)<= 0.05 \n"
   ]
  },
  {
   "cell_type": "markdown",
   "metadata": {},
   "source": [
    "Test de significacancia individual de los parametros.\n",
    "    P>|t|<= 0.05"
   ]
  },
  {
   "cell_type": "code",
   "execution_count": 30,
   "metadata": {},
   "outputs": [
    {
     "name": "stdout",
     "output_type": "stream",
     "text": [
      "                            OLS Regression Results                            \n",
      "==============================================================================\n",
      "Dep. Variable:              Log_Valor   R-squared:                       0.803\n",
      "Model:                            OLS   Adj. R-squared:                  0.803\n",
      "Method:                 Least Squares   F-statistic:                     5440.\n",
      "Date:                Tue, 23 Jul 2024   Prob (F-statistic):               0.00\n",
      "Time:                        17:35:57   Log-Likelihood:                -2061.2\n",
      "No. Observations:                4000   AIC:                             4130.\n",
      "Df Residuals:                    3996   BIC:                             4156.\n",
      "Df Model:                           3                                         \n",
      "Covariance Type:            nonrobust                                         \n",
      "=====================================================================================\n",
      "                        coef    std err          t      P>|t|      [0.025      0.975]\n",
      "-------------------------------------------------------------------------------------\n",
      "const                 8.0557      0.080    100.257      0.000       7.898       8.213\n",
      "Log_Area              1.0607      0.012     89.262      0.000       1.037       1.084\n",
      "Log_Dist_Playa       -0.6458      0.011    -56.171      0.000      -0.668      -0.623\n",
      "Log_Dist_Farmacia    -0.0322      0.055     -0.589      0.556      -0.139       0.075\n",
      "==============================================================================\n",
      "Omnibus:                       73.555   Durbin-Watson:                   1.970\n",
      "Prob(Omnibus):                  0.000   Jarque-Bera (JB):              125.796\n",
      "Skew:                           0.147   Prob(JB):                     4.83e-28\n",
      "Kurtosis:                       3.818   Cond. No.                         70.6\n",
      "==============================================================================\n",
      "\n",
      "Notes:\n",
      "[1] Standard Errors assume that the covariance matrix of the errors is correctly specified.\n"
     ]
    }
   ],
   "source": [
    "print(modelo_statsmodels.summary())"
   ]
  },
  {
   "cell_type": "markdown",
   "metadata": {},
   "source": [
    "Para este caso se puede observar que P>|t| es superior a 0.05 por lo tanto se desestima para el modelo de regresion"
   ]
  },
  {
   "cell_type": "markdown",
   "metadata": {},
   "source": [
    "## En este punto se realizara una prueba generando la transformacion logaritmica con una funcion en numpy"
   ]
  },
  {
   "cell_type": "code",
   "execution_count": 31,
   "metadata": {},
   "outputs": [],
   "source": [
    "df_logConNumpy = df_arreglo.apply(np.log)"
   ]
  },
  {
   "cell_type": "code",
   "execution_count": 32,
   "metadata": {},
   "outputs": [
    {
     "data": {
      "text/html": [
       "<div>\n",
       "<style scoped>\n",
       "    .dataframe tbody tr th:only-of-type {\n",
       "        vertical-align: middle;\n",
       "    }\n",
       "\n",
       "    .dataframe tbody tr th {\n",
       "        vertical-align: top;\n",
       "    }\n",
       "\n",
       "    .dataframe thead th {\n",
       "        text-align: right;\n",
       "    }\n",
       "</style>\n",
       "<table border=\"1\" class=\"dataframe\">\n",
       "  <thead>\n",
       "    <tr style=\"text-align: right;\">\n",
       "      <th></th>\n",
       "      <th>Valor</th>\n",
       "      <th>Area</th>\n",
       "      <th>Dist_Playa</th>\n",
       "      <th>Dist_Farmacia</th>\n",
       "    </tr>\n",
       "  </thead>\n",
       "  <tbody>\n",
       "    <tr>\n",
       "      <th>0</th>\n",
       "      <td>13.653317</td>\n",
       "      <td>5.634790</td>\n",
       "      <td>0.215857</td>\n",
       "      <td>0.584245</td>\n",
       "    </tr>\n",
       "    <tr>\n",
       "      <th>1</th>\n",
       "      <td>12.021903</td>\n",
       "      <td>5.337538</td>\n",
       "      <td>0.644028</td>\n",
       "      <td>0.126187</td>\n",
       "    </tr>\n",
       "    <tr>\n",
       "      <th>2</th>\n",
       "      <td>13.063354</td>\n",
       "      <td>5.135798</td>\n",
       "      <td>0.057821</td>\n",
       "      <td>0.352991</td>\n",
       "    </tr>\n",
       "    <tr>\n",
       "      <th>3</th>\n",
       "      <td>11.529429</td>\n",
       "      <td>4.605170</td>\n",
       "      <td>1.356655</td>\n",
       "      <td>0.422036</td>\n",
       "    </tr>\n",
       "    <tr>\n",
       "      <th>4</th>\n",
       "      <td>12.915718</td>\n",
       "      <td>5.099866</td>\n",
       "      <td>0.214916</td>\n",
       "      <td>0.175946</td>\n",
       "    </tr>\n",
       "    <tr>\n",
       "      <th>...</th>\n",
       "      <td>...</td>\n",
       "      <td>...</td>\n",
       "      <td>...</td>\n",
       "      <td>...</td>\n",
       "    </tr>\n",
       "    <tr>\n",
       "      <th>4995</th>\n",
       "      <td>11.819380</td>\n",
       "      <td>4.248495</td>\n",
       "      <td>0.391608</td>\n",
       "      <td>0.561266</td>\n",
       "    </tr>\n",
       "    <tr>\n",
       "      <th>4996</th>\n",
       "      <td>12.021903</td>\n",
       "      <td>4.852030</td>\n",
       "      <td>2.261189</td>\n",
       "      <td>0.314935</td>\n",
       "    </tr>\n",
       "    <tr>\n",
       "      <th>4997</th>\n",
       "      <td>11.904116</td>\n",
       "      <td>4.248495</td>\n",
       "      <td>0.225651</td>\n",
       "      <td>0.351647</td>\n",
       "    </tr>\n",
       "    <tr>\n",
       "      <th>4998</th>\n",
       "      <td>10.466526</td>\n",
       "      <td>4.007333</td>\n",
       "      <td>2.297093</td>\n",
       "      <td>0.519367</td>\n",
       "    </tr>\n",
       "    <tr>\n",
       "      <th>4999</th>\n",
       "      <td>11.529429</td>\n",
       "      <td>4.543295</td>\n",
       "      <td>0.573487</td>\n",
       "      <td>0.027533</td>\n",
       "    </tr>\n",
       "  </tbody>\n",
       "</table>\n",
       "<p>5000 rows × 4 columns</p>\n",
       "</div>"
      ],
      "text/plain": [
       "          Valor      Area  Dist_Playa  Dist_Farmacia\n",
       "0     13.653317  5.634790    0.215857       0.584245\n",
       "1     12.021903  5.337538    0.644028       0.126187\n",
       "2     13.063354  5.135798    0.057821       0.352991\n",
       "3     11.529429  4.605170    1.356655       0.422036\n",
       "4     12.915718  5.099866    0.214916       0.175946\n",
       "...         ...       ...         ...            ...\n",
       "4995  11.819380  4.248495    0.391608       0.561266\n",
       "4996  12.021903  4.852030    2.261189       0.314935\n",
       "4997  11.904116  4.248495    0.225651       0.351647\n",
       "4998  10.466526  4.007333    2.297093       0.519367\n",
       "4999  11.529429  4.543295    0.573487       0.027533\n",
       "\n",
       "[5000 rows x 4 columns]"
      ]
     },
     "execution_count": 32,
     "metadata": {},
     "output_type": "execute_result"
    }
   ],
   "source": [
    "df_logConNumpy"
   ]
  },
  {
   "cell_type": "code",
   "execution_count": 33,
   "metadata": {},
   "outputs": [
    {
     "data": {
      "text/plain": [
       "<seaborn.axisgrid.PairGrid at 0x190ff08c610>"
      ]
     },
     "execution_count": 33,
     "metadata": {},
     "output_type": "execute_result"
    },
    {
     "data": {
      "image/png": "[encoded data removed]",
      "text/plain": [
       "<Figure size 750x250 with 3 Axes>"
      ]
     },
     "metadata": {},
     "output_type": "display_data"
    }
   ],
   "source": [
    "ax = sns.pairplot(df_logConNumpy,y_vars='Valor',x_vars=['Area','Dist_Playa','Dist_Farmacia'],kind='reg')\n",
    "ax.fig.suptitle('Dispersión entre las Variables Transformadas', fontsize=20, y=1.05)\n",
    "\n",
    "#\tValor\tArea\tDist_Playa\tDist_Farmacia\tLog_Dist_Playa\tLog_Dist_Farmacia\n",
    "ax "
   ]
  },
  {
   "cell_type": "code",
   "execution_count": 34,
   "metadata": {},
   "outputs": [],
   "source": [
    "y_nmpy = df_logConNumpy['Valor']"
   ]
  },
  {
   "cell_type": "code",
   "execution_count": 35,
   "metadata": {},
   "outputs": [],
   "source": [
    "x_nmpy = df_logConNumpy[['Area','Dist_Playa','Dist_Farmacia']]\n"
   ]
  },
  {
   "cell_type": "code",
   "execution_count": 36,
   "metadata": {},
   "outputs": [],
   "source": [
    "X_train_np, X_test_np, y_train_np, y_test_np = train_test_split(x_nmpy, y_nmpy, test_size=0.2, random_state=2811) "
   ]
  },
  {
   "cell_type": "code",
   "execution_count": 37,
   "metadata": {},
   "outputs": [
    {
     "data": {
      "text/html": [
       "<div>\n",
       "<style scoped>\n",
       "    .dataframe tbody tr th:only-of-type {\n",
       "        vertical-align: middle;\n",
       "    }\n",
       "\n",
       "    .dataframe tbody tr th {\n",
       "        vertical-align: top;\n",
       "    }\n",
       "\n",
       "    .dataframe thead th {\n",
       "        text-align: right;\n",
       "    }\n",
       "</style>\n",
       "<table border=\"1\" class=\"dataframe\">\n",
       "  <thead>\n",
       "    <tr style=\"text-align: right;\">\n",
       "      <th></th>\n",
       "      <th>const</th>\n",
       "      <th>Area</th>\n",
       "      <th>Dist_Playa</th>\n",
       "      <th>Dist_Farmacia</th>\n",
       "    </tr>\n",
       "  </thead>\n",
       "  <tbody>\n",
       "    <tr>\n",
       "      <th>2661</th>\n",
       "      <td>1.0</td>\n",
       "      <td>5.945421</td>\n",
       "      <td>0.000000</td>\n",
       "      <td>0.382273</td>\n",
       "    </tr>\n",
       "    <tr>\n",
       "      <th>912</th>\n",
       "      <td>1.0</td>\n",
       "      <td>3.135494</td>\n",
       "      <td>0.972865</td>\n",
       "      <td>0.605015</td>\n",
       "    </tr>\n",
       "    <tr>\n",
       "      <th>3042</th>\n",
       "      <td>1.0</td>\n",
       "      <td>4.317488</td>\n",
       "      <td>1.794961</td>\n",
       "      <td>0.486594</td>\n",
       "    </tr>\n",
       "    <tr>\n",
       "      <th>141</th>\n",
       "      <td>1.0</td>\n",
       "      <td>3.401197</td>\n",
       "      <td>0.310455</td>\n",
       "      <td>0.599609</td>\n",
       "    </tr>\n",
       "    <tr>\n",
       "      <th>3854</th>\n",
       "      <td>1.0</td>\n",
       "      <td>5.676754</td>\n",
       "      <td>0.032193</td>\n",
       "      <td>0.101903</td>\n",
       "    </tr>\n",
       "    <tr>\n",
       "      <th>...</th>\n",
       "      <td>...</td>\n",
       "      <td>...</td>\n",
       "      <td>...</td>\n",
       "      <td>...</td>\n",
       "    </tr>\n",
       "    <tr>\n",
       "      <th>3657</th>\n",
       "      <td>1.0</td>\n",
       "      <td>5.075174</td>\n",
       "      <td>2.023480</td>\n",
       "      <td>0.333605</td>\n",
       "    </tr>\n",
       "    <tr>\n",
       "      <th>979</th>\n",
       "      <td>1.0</td>\n",
       "      <td>4.174387</td>\n",
       "      <td>2.296141</td>\n",
       "      <td>0.156465</td>\n",
       "    </tr>\n",
       "    <tr>\n",
       "      <th>2389</th>\n",
       "      <td>1.0</td>\n",
       "      <td>4.394449</td>\n",
       "      <td>1.367741</td>\n",
       "      <td>0.409727</td>\n",
       "    </tr>\n",
       "    <tr>\n",
       "      <th>447</th>\n",
       "      <td>1.0</td>\n",
       "      <td>3.951244</td>\n",
       "      <td>2.166841</td>\n",
       "      <td>0.217381</td>\n",
       "    </tr>\n",
       "    <tr>\n",
       "      <th>2008</th>\n",
       "      <td>1.0</td>\n",
       "      <td>4.406719</td>\n",
       "      <td>1.692269</td>\n",
       "      <td>0.537831</td>\n",
       "    </tr>\n",
       "  </tbody>\n",
       "</table>\n",
       "<p>4000 rows × 4 columns</p>\n",
       "</div>"
      ],
      "text/plain": [
       "      const      Area  Dist_Playa  Dist_Farmacia\n",
       "2661    1.0  5.945421    0.000000       0.382273\n",
       "912     1.0  3.135494    0.972865       0.605015\n",
       "3042    1.0  4.317488    1.794961       0.486594\n",
       "141     1.0  3.401197    0.310455       0.599609\n",
       "3854    1.0  5.676754    0.032193       0.101903\n",
       "...     ...       ...         ...            ...\n",
       "3657    1.0  5.075174    2.023480       0.333605\n",
       "979     1.0  4.174387    2.296141       0.156465\n",
       "2389    1.0  4.394449    1.367741       0.409727\n",
       "447     1.0  3.951244    2.166841       0.217381\n",
       "2008    1.0  4.406719    1.692269       0.537831\n",
       "\n",
       "[4000 rows x 4 columns]"
      ]
     },
     "execution_count": 37,
     "metadata": {},
     "output_type": "execute_result"
    }
   ],
   "source": [
    "X_train_Con_Constante_np = sm.add_constant(X_train_np)\n",
    "\n",
    "\n",
    "X_train_Con_Constante_np"
   ]
  },
  {
   "cell_type": "code",
   "execution_count": 38,
   "metadata": {},
   "outputs": [],
   "source": [
    "modelo_statsmodels_np = sm.OLS(y_train_np,X_train_Con_Constante_np,hasconst=True).fit()"
   ]
  },
  {
   "cell_type": "code",
   "execution_count": 39,
   "metadata": {},
   "outputs": [
    {
     "name": "stdout",
     "output_type": "stream",
     "text": [
      "                            OLS Regression Results                            \n",
      "==============================================================================\n",
      "Dep. Variable:                  Valor   R-squared:                       0.805\n",
      "Model:                            OLS   Adj. R-squared:                  0.805\n",
      "Method:                 Least Squares   F-statistic:                     5495.\n",
      "Date:                Tue, 23 Jul 2024   Prob (F-statistic):               0.00\n",
      "Time:                        17:35:58   Log-Likelihood:                -2044.9\n",
      "No. Observations:                4000   AIC:                             4098.\n",
      "Df Residuals:                    3996   BIC:                             4123.\n",
      "Df Model:                           3                                         \n",
      "Covariance Type:            nonrobust                                         \n",
      "=================================================================================\n",
      "                    coef    std err          t      P>|t|      [0.025      0.975]\n",
      "---------------------------------------------------------------------------------\n",
      "const             7.6534      0.060    126.770      0.000       7.535       7.772\n",
      "Area              1.0580      0.012     89.320      0.000       1.035       1.081\n",
      "Dist_Playa       -0.4905      0.009    -56.690      0.000      -0.508      -0.474\n",
      "Dist_Farmacia    -0.0167      0.032     -0.521      0.603      -0.080       0.046\n",
      "==============================================================================\n",
      "Omnibus:                       64.751   Durbin-Watson:                   1.971\n",
      "Prob(Omnibus):                  0.000   Jarque-Bera (JB):              106.859\n",
      "Skew:                           0.136   Prob(JB):                     6.25e-24\n",
      "Kurtosis:                       3.753   Cond. No.                         47.6\n",
      "==============================================================================\n",
      "\n",
      "Notes:\n",
      "[1] Standard Errors assume that the covariance matrix of the errors is correctly specified.\n"
     ]
    }
   ],
   "source": [
    "print(modelo_statsmodels_np.summary())"
   ]
  },
  {
   "cell_type": "markdown",
   "metadata": {},
   "source": [
    "Se puede concluir que de ambos metodos se obtiene un poco mas de exactitud al realizarlo manualmente"
   ]
  },
  {
   "cell_type": "markdown",
   "metadata": {},
   "source": [
    "## Se pudo concluir que la variable explicativa \"Dist_Farmacia\" no es significativa para el modelo de regresion lineal y se borrada"
   ]
  },
  {
   "cell_type": "code",
   "execution_count": 40,
   "metadata": {},
   "outputs": [],
   "source": [
    "del df_log[\"Log_Dist_Farmacia\"]"
   ]
  },
  {
   "cell_type": "code",
   "execution_count": 41,
   "metadata": {},
   "outputs": [
    {
     "data": {
      "text/html": [
       "<div>\n",
       "<style scoped>\n",
       "    .dataframe tbody tr th:only-of-type {\n",
       "        vertical-align: middle;\n",
       "    }\n",
       "\n",
       "    .dataframe tbody tr th {\n",
       "        vertical-align: top;\n",
       "    }\n",
       "\n",
       "    .dataframe thead th {\n",
       "        text-align: right;\n",
       "    }\n",
       "</style>\n",
       "<table border=\"1\" class=\"dataframe\">\n",
       "  <thead>\n",
       "    <tr style=\"text-align: right;\">\n",
       "      <th></th>\n",
       "      <th>Log_Valor</th>\n",
       "      <th>Log_Area</th>\n",
       "      <th>Log_Dist_Playa</th>\n",
       "    </tr>\n",
       "  </thead>\n",
       "  <tbody>\n",
       "    <tr>\n",
       "      <th>0</th>\n",
       "      <td>13.653317</td>\n",
       "      <td>5.634790</td>\n",
       "      <td>0.806889</td>\n",
       "    </tr>\n",
       "    <tr>\n",
       "      <th>1</th>\n",
       "      <td>12.021903</td>\n",
       "      <td>5.337538</td>\n",
       "      <td>1.066136</td>\n",
       "    </tr>\n",
       "    <tr>\n",
       "      <th>2</th>\n",
       "      <td>13.063354</td>\n",
       "      <td>5.135798</td>\n",
       "      <td>0.722476</td>\n",
       "    </tr>\n",
       "    <tr>\n",
       "      <th>3</th>\n",
       "      <td>11.529429</td>\n",
       "      <td>4.605170</td>\n",
       "      <td>1.585797</td>\n",
       "    </tr>\n",
       "    <tr>\n",
       "      <th>4</th>\n",
       "      <td>12.915718</td>\n",
       "      <td>5.099866</td>\n",
       "      <td>0.806368</td>\n",
       "    </tr>\n",
       "    <tr>\n",
       "      <th>...</th>\n",
       "      <td>...</td>\n",
       "      <td>...</td>\n",
       "      <td>...</td>\n",
       "    </tr>\n",
       "    <tr>\n",
       "      <th>4995</th>\n",
       "      <td>11.819380</td>\n",
       "      <td>4.248495</td>\n",
       "      <td>0.907999</td>\n",
       "    </tr>\n",
       "    <tr>\n",
       "      <th>4996</th>\n",
       "      <td>12.021903</td>\n",
       "      <td>4.852030</td>\n",
       "      <td>2.360334</td>\n",
       "    </tr>\n",
       "    <tr>\n",
       "      <th>4997</th>\n",
       "      <td>11.904116</td>\n",
       "      <td>4.248495</td>\n",
       "      <td>0.812324</td>\n",
       "    </tr>\n",
       "    <tr>\n",
       "      <th>4998</th>\n",
       "      <td>10.466526</td>\n",
       "      <td>4.007333</td>\n",
       "      <td>2.392903</td>\n",
       "    </tr>\n",
       "    <tr>\n",
       "      <th>4999</th>\n",
       "      <td>11.529429</td>\n",
       "      <td>4.543295</td>\n",
       "      <td>1.020450</td>\n",
       "    </tr>\n",
       "  </tbody>\n",
       "</table>\n",
       "<p>5000 rows × 3 columns</p>\n",
       "</div>"
      ],
      "text/plain": [
       "      Log_Valor  Log_Area  Log_Dist_Playa\n",
       "0     13.653317  5.634790        0.806889\n",
       "1     12.021903  5.337538        1.066136\n",
       "2     13.063354  5.135798        0.722476\n",
       "3     11.529429  4.605170        1.585797\n",
       "4     12.915718  5.099866        0.806368\n",
       "...         ...       ...             ...\n",
       "4995  11.819380  4.248495        0.907999\n",
       "4996  12.021903  4.852030        2.360334\n",
       "4997  11.904116  4.248495        0.812324\n",
       "4998  10.466526  4.007333        2.392903\n",
       "4999  11.529429  4.543295        1.020450\n",
       "\n",
       "[5000 rows x 3 columns]"
      ]
     },
     "execution_count": 41,
     "metadata": {},
     "output_type": "execute_result"
    }
   ],
   "source": [
    "df_log"
   ]
  },
  {
   "cell_type": "code",
   "execution_count": 42,
   "metadata": {},
   "outputs": [],
   "source": [
    "y = df_log['Log_Valor']"
   ]
  },
  {
   "cell_type": "code",
   "execution_count": 43,
   "metadata": {},
   "outputs": [],
   "source": [
    "x = df_log[['Log_Area','Log_Dist_Playa']]\n"
   ]
  },
  {
   "cell_type": "code",
   "execution_count": 44,
   "metadata": {},
   "outputs": [],
   "source": [
    "X_train, X_test, y_train, y_test = train_test_split(x, y, test_size=0.2, random_state=2811) #para facilitar se utiliza las variables de la documentacion"
   ]
  },
  {
   "cell_type": "code",
   "execution_count": 45,
   "metadata": {},
   "outputs": [
    {
     "data": {
      "text/html": [
       "<div>\n",
       "<style scoped>\n",
       "    .dataframe tbody tr th:only-of-type {\n",
       "        vertical-align: middle;\n",
       "    }\n",
       "\n",
       "    .dataframe tbody tr th {\n",
       "        vertical-align: top;\n",
       "    }\n",
       "\n",
       "    .dataframe thead th {\n",
       "        text-align: right;\n",
       "    }\n",
       "</style>\n",
       "<table border=\"1\" class=\"dataframe\">\n",
       "  <thead>\n",
       "    <tr style=\"text-align: right;\">\n",
       "      <th></th>\n",
       "      <th>const</th>\n",
       "      <th>Log_Area</th>\n",
       "      <th>Log_Dist_Playa</th>\n",
       "    </tr>\n",
       "  </thead>\n",
       "  <tbody>\n",
       "    <tr>\n",
       "      <th>2661</th>\n",
       "      <td>1.0</td>\n",
       "      <td>5.945421</td>\n",
       "      <td>0.693147</td>\n",
       "    </tr>\n",
       "    <tr>\n",
       "      <th>912</th>\n",
       "      <td>1.0</td>\n",
       "      <td>3.135494</td>\n",
       "      <td>1.293497</td>\n",
       "    </tr>\n",
       "    <tr>\n",
       "      <th>3042</th>\n",
       "      <td>1.0</td>\n",
       "      <td>4.317488</td>\n",
       "      <td>1.948655</td>\n",
       "    </tr>\n",
       "    <tr>\n",
       "      <th>141</th>\n",
       "      <td>1.0</td>\n",
       "      <td>3.401197</td>\n",
       "      <td>0.860375</td>\n",
       "    </tr>\n",
       "    <tr>\n",
       "      <th>3854</th>\n",
       "      <td>1.0</td>\n",
       "      <td>5.676754</td>\n",
       "      <td>0.709373</td>\n",
       "    </tr>\n",
       "    <tr>\n",
       "      <th>...</th>\n",
       "      <td>...</td>\n",
       "      <td>...</td>\n",
       "      <td>...</td>\n",
       "    </tr>\n",
       "    <tr>\n",
       "      <th>3657</th>\n",
       "      <td>1.0</td>\n",
       "      <td>5.075174</td>\n",
       "      <td>2.147638</td>\n",
       "    </tr>\n",
       "    <tr>\n",
       "      <th>979</th>\n",
       "      <td>1.0</td>\n",
       "      <td>4.174387</td>\n",
       "      <td>2.392039</td>\n",
       "    </tr>\n",
       "    <tr>\n",
       "      <th>2389</th>\n",
       "      <td>1.0</td>\n",
       "      <td>4.394449</td>\n",
       "      <td>1.594623</td>\n",
       "    </tr>\n",
       "    <tr>\n",
       "      <th>447</th>\n",
       "      <td>1.0</td>\n",
       "      <td>3.951244</td>\n",
       "      <td>2.275281</td>\n",
       "    </tr>\n",
       "    <tr>\n",
       "      <th>2008</th>\n",
       "      <td>1.0</td>\n",
       "      <td>4.406719</td>\n",
       "      <td>1.861253</td>\n",
       "    </tr>\n",
       "  </tbody>\n",
       "</table>\n",
       "<p>4000 rows × 3 columns</p>\n",
       "</div>"
      ],
      "text/plain": [
       "      const  Log_Area  Log_Dist_Playa\n",
       "2661    1.0  5.945421        0.693147\n",
       "912     1.0  3.135494        1.293497\n",
       "3042    1.0  4.317488        1.948655\n",
       "141     1.0  3.401197        0.860375\n",
       "3854    1.0  5.676754        0.709373\n",
       "...     ...       ...             ...\n",
       "3657    1.0  5.075174        2.147638\n",
       "979     1.0  4.174387        2.392039\n",
       "2389    1.0  4.394449        1.594623\n",
       "447     1.0  3.951244        2.275281\n",
       "2008    1.0  4.406719        1.861253\n",
       "\n",
       "[4000 rows x 3 columns]"
      ]
     },
     "execution_count": 45,
     "metadata": {},
     "output_type": "execute_result"
    }
   ],
   "source": [
    "X_train_Con_Constante = sm.add_constant(X_train)\n",
    "X_train_Con_Constante"
   ]
  },
  {
   "cell_type": "code",
   "execution_count": 46,
   "metadata": {},
   "outputs": [],
   "source": [
    "modelo_statsmodels = sm.OLS(y_train,X_train_Con_Constante,hasconst=True).fit()"
   ]
  },
  {
   "cell_type": "code",
   "execution_count": 47,
   "metadata": {},
   "outputs": [
    {
     "name": "stdout",
     "output_type": "stream",
     "text": [
      "                            OLS Regression Results                            \n",
      "==============================================================================\n",
      "Dep. Variable:              Log_Valor   R-squared:                       0.803\n",
      "Model:                            OLS   Adj. R-squared:                  0.803\n",
      "Method:                 Least Squares   F-statistic:                     8161.\n",
      "Date:                Tue, 23 Jul 2024   Prob (F-statistic):               0.00\n",
      "Time:                        17:35:58   Log-Likelihood:                -2061.4\n",
      "No. Observations:                4000   AIC:                             4129.\n",
      "Df Residuals:                    3997   BIC:                             4148.\n",
      "Df Model:                           2                                         \n",
      "Covariance Type:            nonrobust                                         \n",
      "==================================================================================\n",
      "                     coef    std err          t      P>|t|      [0.025      0.975]\n",
      "----------------------------------------------------------------------------------\n",
      "const              8.0261      0.063    127.910      0.000       7.903       8.149\n",
      "Log_Area           1.0608      0.012     89.285      0.000       1.038       1.084\n",
      "Log_Dist_Playa    -0.6459      0.011    -56.190      0.000      -0.668      -0.623\n",
      "==============================================================================\n",
      "Omnibus:                       74.023   Durbin-Watson:                   1.971\n",
      "Prob(Omnibus):                  0.000   Jarque-Bera (JB):              126.947\n",
      "Skew:                           0.147   Prob(JB):                     2.72e-28\n",
      "Kurtosis:                       3.822   Cond. No.                         49.7\n",
      "==============================================================================\n",
      "\n",
      "Notes:\n",
      "[1] Standard Errors assume that the covariance matrix of the errors is correctly specified.\n"
     ]
    }
   ],
   "source": [
    "print(modelo_statsmodels.summary())"
   ]
  },
  {
   "cell_type": "markdown",
   "metadata": {},
   "source": [
    "## Se procede a entrenar modelo de regresion lineal con las variables explicativas que pasaran el test de hipotesis"
   ]
  },
  {
   "cell_type": "code",
   "execution_count": 48,
   "metadata": {},
   "outputs": [],
   "source": [
    "from sklearn.linear_model import LinearRegression\n",
    "from sklearn import metrics"
   ]
  },
  {
   "cell_type": "code",
   "execution_count": 49,
   "metadata": {},
   "outputs": [],
   "source": [
    "modelo = LinearRegression() "
   ]
  },
  {
   "cell_type": "markdown",
   "metadata": {},
   "source": [
    "Se estima el modelo con fit()"
   ]
  },
  {
   "cell_type": "code",
   "execution_count": 50,
   "metadata": {},
   "outputs": [
    {
     "data": {
      "text/html": [
       "<style>#sk-container-id-1 {\n",
       "  /* Definition of color scheme common for light and dark mode */\n",
       "  --sklearn-color-text: black;\n",
       "  --sklearn-color-line: gray;\n",
       "  /* Definition of color scheme for unfitted estimators */\n",
       "  --sklearn-color-unfitted-level-0: #fff5e6;\n",
       "  --sklearn-color-unfitted-level-1: #f6e4d2;\n",
       "  --sklearn-color-unfitted-level-2: #ffe0b3;\n",
       "  --sklearn-color-unfitted-level-3: chocolate;\n",
       "  /* Definition of color scheme for fitted estimators */\n",
       "  --sklearn-color-fitted-level-0: #f0f8ff;\n",
       "  --sklearn-color-fitted-level-1: #d4ebff;\n",
       "  --sklearn-color-fitted-level-2: #b3dbfd;\n",
       "  --sklearn-color-fitted-level-3: cornflowerblue;\n",
       "\n",
       "  /* Specific color for light theme */\n",
       "  --sklearn-color-text-on-default-background: var(--sg-text-color, var(--theme-code-foreground, var(--jp-content-font-color1, black)));\n",
       "  --sklearn-color-background: var(--sg-background-color, var(--theme-background, var(--jp-layout-color0, white)));\n",
       "  --sklearn-color-border-box: var(--sg-text-color, var(--theme-code-foreground, var(--jp-content-font-color1, black)));\n",
       "  --sklearn-color-icon: #696969;\n",
       "\n",
       "  @media (prefers-color-scheme: dark) {\n",
       "    /* Redefinition of color scheme for dark theme */\n",
       "    --sklearn-color-text-on-default-background: var(--sg-text-color, var(--theme-code-foreground, var(--jp-content-font-color1, white)));\n",
       "    --sklearn-color-background: var(--sg-background-color, var(--theme-background, var(--jp-layout-color0, #111)));\n",
       "    --sklearn-color-border-box: var(--sg-text-color, var(--theme-code-foreground, var(--jp-content-font-color1, white)));\n",
       "    --sklearn-color-icon: #878787;\n",
       "  }\n",
       "}\n",
       "\n",
       "#sk-container-id-1 {\n",
       "  color: var(--sklearn-color-text);\n",
       "}\n",
       "\n",
       "#sk-container-id-1 pre {\n",
       "  padding: 0;\n",
       "}\n",
       "\n",
       "#sk-container-id-1 input.sk-hidden--visually {\n",
       "  border: 0;\n",
       "  clip: rect(1px 1px 1px 1px);\n",
       "  clip: rect(1px, 1px, 1px, 1px);\n",
       "  height: 1px;\n",
       "  margin: -1px;\n",
       "  overflow: hidden;\n",
       "  padding: 0;\n",
       "  position: absolute;\n",
       "  width: 1px;\n",
       "}\n",
       "\n",
       "#sk-container-id-1 div.sk-dashed-wrapped {\n",
       "  border: 1px dashed var(--sklearn-color-line);\n",
       "  margin: 0 0.4em 0.5em 0.4em;\n",
       "  box-sizing: border-box;\n",
       "  padding-bottom: 0.4em;\n",
       "  background-color: var(--sklearn-color-background);\n",
       "}\n",
       "\n",
       "#sk-container-id-1 div.sk-container {\n",
       "  /* jupyter's `normalize.less` sets `[hidden] { display: none; }`\n",
       "     but bootstrap.min.css set `[hidden] { display: none !important; }`\n",
       "     so we also need the `!important` here to be able to override the\n",
       "     default hidden behavior on the sphinx rendered scikit-learn.org.\n",
       "     See: https://github.com/scikit-learn/scikit-learn/issues/21755 */\n",
       "  display: inline-block !important;\n",
       "  position: relative;\n",
       "}\n",
       "\n",
       "#sk-container-id-1 div.sk-text-repr-fallback {\n",
       "  display: none;\n",
       "}\n",
       "\n",
       "div.sk-parallel-item,\n",
       "div.sk-serial,\n",
       "div.sk-item {\n",
       "  /* draw centered vertical line to link estimators */\n",
       "  background-image: linear-gradient(var(--sklearn-color-text-on-default-background), var(--sklearn-color-text-on-default-background));\n",
       "  background-size: 2px 100%;\n",
       "  background-repeat: no-repeat;\n",
       "  background-position: center center;\n",
       "}\n",
       "\n",
       "/* Parallel-specific style estimator block */\n",
       "\n",
       "#sk-container-id-1 div.sk-parallel-item::after {\n",
       "  content: \"\";\n",
       "  width: 100%;\n",
       "  border-bottom: 2px solid var(--sklearn-color-text-on-default-background);\n",
       "  flex-grow: 1;\n",
       "}\n",
       "\n",
       "#sk-container-id-1 div.sk-parallel {\n",
       "  display: flex;\n",
       "  align-items: stretch;\n",
       "  justify-content: center;\n",
       "  background-color: var(--sklearn-color-background);\n",
       "  position: relative;\n",
       "}\n",
       "\n",
       "#sk-container-id-1 div.sk-parallel-item {\n",
       "  display: flex;\n",
       "  flex-direction: column;\n",
       "}\n",
       "\n",
       "#sk-container-id-1 div.sk-parallel-item:first-child::after {\n",
       "  align-self: flex-end;\n",
       "  width: 50%;\n",
       "}\n",
       "\n",
       "#sk-container-id-1 div.sk-parallel-item:last-child::after {\n",
       "  align-self: flex-start;\n",
       "  width: 50%;\n",
       "}\n",
       "\n",
       "#sk-container-id-1 div.sk-parallel-item:only-child::after {\n",
       "  width: 0;\n",
       "}\n",
       "\n",
       "/* Serial-specific style estimator block */\n",
       "\n",
       "#sk-container-id-1 div.sk-serial {\n",
       "  display: flex;\n",
       "  flex-direction: column;\n",
       "  align-items: center;\n",
       "  background-color: var(--sklearn-color-background);\n",
       "  padding-right: 1em;\n",
       "  padding-left: 1em;\n",
       "}\n",
       "\n",
       "\n",
       "/* Toggleable style: style used for estimator/Pipeline/ColumnTransformer box that is\n",
       "clickable and can be expanded/collapsed.\n",
       "- Pipeline and ColumnTransformer use this feature and define the default style\n",
       "- Estimators will overwrite some part of the style using the `sk-estimator` class\n",
       "*/\n",
       "\n",
       "/* Pipeline and ColumnTransformer style (default) */\n",
       "\n",
       "#sk-container-id-1 div.sk-toggleable {\n",
       "  /* Default theme specific background. It is overwritten whether we have a\n",
       "  specific estimator or a Pipeline/ColumnTransformer */\n",
       "  background-color: var(--sklearn-color-background);\n",
       "}\n",
       "\n",
       "/* Toggleable label */\n",
       "#sk-container-id-1 label.sk-toggleable__label {\n",
       "  cursor: pointer;\n",
       "  display: block;\n",
       "  width: 100%;\n",
       "  margin-bottom: 0;\n",
       "  padding: 0.5em;\n",
       "  box-sizing: border-box;\n",
       "  text-align: center;\n",
       "}\n",
       "\n",
       "#sk-container-id-1 label.sk-toggleable__label-arrow:before {\n",
       "  /* Arrow on the left of the label */\n",
       "  content: \"▸\";\n",
       "  float: left;\n",
       "  margin-right: 0.25em;\n",
       "  color: var(--sklearn-color-icon);\n",
       "}\n",
       "\n",
       "#sk-container-id-1 label.sk-toggleable__label-arrow:hover:before {\n",
       "  color: var(--sklearn-color-text);\n",
       "}\n",
       "\n",
       "/* Toggleable content - dropdown */\n",
       "\n",
       "#sk-container-id-1 div.sk-toggleable__content {\n",
       "  max-height: 0;\n",
       "  max-width: 0;\n",
       "  overflow: hidden;\n",
       "  text-align: left;\n",
       "  /* unfitted */\n",
       "  background-color: var(--sklearn-color-unfitted-level-0);\n",
       "}\n",
       "\n",
       "#sk-container-id-1 div.sk-toggleable__content.fitted {\n",
       "  /* fitted */\n",
       "  background-color: var(--sklearn-color-fitted-level-0);\n",
       "}\n",
       "\n",
       "#sk-container-id-1 div.sk-toggleable__content pre {\n",
       "  margin: 0.2em;\n",
       "  border-radius: 0.25em;\n",
       "  color: var(--sklearn-color-text);\n",
       "  /* unfitted */\n",
       "  background-color: var(--sklearn-color-unfitted-level-0);\n",
       "}\n",
       "\n",
       "#sk-container-id-1 div.sk-toggleable__content.fitted pre {\n",
       "  /* unfitted */\n",
       "  background-color: var(--sklearn-color-fitted-level-0);\n",
       "}\n",
       "\n",
       "#sk-container-id-1 input.sk-toggleable__control:checked~div.sk-toggleable__content {\n",
       "  /* Expand drop-down */\n",
       "  max-height: 200px;\n",
       "  max-width: 100%;\n",
       "  overflow: auto;\n",
       "}\n",
       "\n",
       "#sk-container-id-1 input.sk-toggleable__control:checked~label.sk-toggleable__label-arrow:before {\n",
       "  content: \"▾\";\n",
       "}\n",
       "\n",
       "/* Pipeline/ColumnTransformer-specific style */\n",
       "\n",
       "#sk-container-id-1 div.sk-label input.sk-toggleable__control:checked~label.sk-toggleable__label {\n",
       "  color: var(--sklearn-color-text);\n",
       "  background-color: var(--sklearn-color-unfitted-level-2);\n",
       "}\n",
       "\n",
       "#sk-container-id-1 div.sk-label.fitted input.sk-toggleable__control:checked~label.sk-toggleable__label {\n",
       "  background-color: var(--sklearn-color-fitted-level-2);\n",
       "}\n",
       "\n",
       "/* Estimator-specific style */\n",
       "\n",
       "/* Colorize estimator box */\n",
       "#sk-container-id-1 div.sk-estimator input.sk-toggleable__control:checked~label.sk-toggleable__label {\n",
       "  /* unfitted */\n",
       "  background-color: var(--sklearn-color-unfitted-level-2);\n",
       "}\n",
       "\n",
       "#sk-container-id-1 div.sk-estimator.fitted input.sk-toggleable__control:checked~label.sk-toggleable__label {\n",
       "  /* fitted */\n",
       "  background-color: var(--sklearn-color-fitted-level-2);\n",
       "}\n",
       "\n",
       "#sk-container-id-1 div.sk-label label.sk-toggleable__label,\n",
       "#sk-container-id-1 div.sk-label label {\n",
       "  /* The background is the default theme color */\n",
       "  color: var(--sklearn-color-text-on-default-background);\n",
       "}\n",
       "\n",
       "/* On hover, darken the color of the background */\n",
       "#sk-container-id-1 div.sk-label:hover label.sk-toggleable__label {\n",
       "  color: var(--sklearn-color-text);\n",
       "  background-color: var(--sklearn-color-unfitted-level-2);\n",
       "}\n",
       "\n",
       "/* Label box, darken color on hover, fitted */\n",
       "#sk-container-id-1 div.sk-label.fitted:hover label.sk-toggleable__label.fitted {\n",
       "  color: var(--sklearn-color-text);\n",
       "  background-color: var(--sklearn-color-fitted-level-2);\n",
       "}\n",
       "\n",
       "/* Estimator label */\n",
       "\n",
       "#sk-container-id-1 div.sk-label label {\n",
       "  font-family: monospace;\n",
       "  font-weight: bold;\n",
       "  display: inline-block;\n",
       "  line-height: 1.2em;\n",
       "}\n",
       "\n",
       "#sk-container-id-1 div.sk-label-container {\n",
       "  text-align: center;\n",
       "}\n",
       "\n",
       "/* Estimator-specific */\n",
       "#sk-container-id-1 div.sk-estimator {\n",
       "  font-family: monospace;\n",
       "  border: 1px dotted var(--sklearn-color-border-box);\n",
       "  border-radius: 0.25em;\n",
       "  box-sizing: border-box;\n",
       "  margin-bottom: 0.5em;\n",
       "  /* unfitted */\n",
       "  background-color: var(--sklearn-color-unfitted-level-0);\n",
       "}\n",
       "\n",
       "#sk-container-id-1 div.sk-estimator.fitted {\n",
       "  /* fitted */\n",
       "  background-color: var(--sklearn-color-fitted-level-0);\n",
       "}\n",
       "\n",
       "/* on hover */\n",
       "#sk-container-id-1 div.sk-estimator:hover {\n",
       "  /* unfitted */\n",
       "  background-color: var(--sklearn-color-unfitted-level-2);\n",
       "}\n",
       "\n",
       "#sk-container-id-1 div.sk-estimator.fitted:hover {\n",
       "  /* fitted */\n",
       "  background-color: var(--sklearn-color-fitted-level-2);\n",
       "}\n",
       "\n",
       "/* Specification for estimator info (e.g. \"i\" and \"?\") */\n",
       "\n",
       "/* Common style for \"i\" and \"?\" */\n",
       "\n",
       ".sk-estimator-doc-link,\n",
       "a:link.sk-estimator-doc-link,\n",
       "a:visited.sk-estimator-doc-link {\n",
       "  float: right;\n",
       "  font-size: smaller;\n",
       "  line-height: 1em;\n",
       "  font-family: monospace;\n",
       "  background-color: var(--sklearn-color-background);\n",
       "  border-radius: 1em;\n",
       "  height: 1em;\n",
       "  width: 1em;\n",
       "  text-decoration: none !important;\n",
       "  margin-left: 1ex;\n",
       "  /* unfitted */\n",
       "  border: var(--sklearn-color-unfitted-level-1) 1pt solid;\n",
       "  color: var(--sklearn-color-unfitted-level-1);\n",
       "}\n",
       "\n",
       ".sk-estimator-doc-link.fitted,\n",
       "a:link.sk-estimator-doc-link.fitted,\n",
       "a:visited.sk-estimator-doc-link.fitted {\n",
       "  /* fitted */\n",
       "  border: var(--sklearn-color-fitted-level-1) 1pt solid;\n",
       "  color: var(--sklearn-color-fitted-level-1);\n",
       "}\n",
       "\n",
       "/* On hover */\n",
       "div.sk-estimator:hover .sk-estimator-doc-link:hover,\n",
       ".sk-estimator-doc-link:hover,\n",
       "div.sk-label-container:hover .sk-estimator-doc-link:hover,\n",
       ".sk-estimator-doc-link:hover {\n",
       "  /* unfitted */\n",
       "  background-color: var(--sklearn-color-unfitted-level-3);\n",
       "  color: var(--sklearn-color-background);\n",
       "  text-decoration: none;\n",
       "}\n",
       "\n",
       "div.sk-estimator.fitted:hover .sk-estimator-doc-link.fitted:hover,\n",
       ".sk-estimator-doc-link.fitted:hover,\n",
       "div.sk-label-container:hover .sk-estimator-doc-link.fitted:hover,\n",
       ".sk-estimator-doc-link.fitted:hover {\n",
       "  /* fitted */\n",
       "  background-color: var(--sklearn-color-fitted-level-3);\n",
       "  color: var(--sklearn-color-background);\n",
       "  text-decoration: none;\n",
       "}\n",
       "\n",
       "/* Span, style for the box shown on hovering the info icon */\n",
       ".sk-estimator-doc-link span {\n",
       "  display: none;\n",
       "  z-index: 9999;\n",
       "  position: relative;\n",
       "  font-weight: normal;\n",
       "  right: .2ex;\n",
       "  padding: .5ex;\n",
       "  margin: .5ex;\n",
       "  width: min-content;\n",
       "  min-width: 20ex;\n",
       "  max-width: 50ex;\n",
       "  color: var(--sklearn-color-text);\n",
       "  box-shadow: 2pt 2pt 4pt #999;\n",
       "  /* unfitted */\n",
       "  background: var(--sklearn-color-unfitted-level-0);\n",
       "  border: .5pt solid var(--sklearn-color-unfitted-level-3);\n",
       "}\n",
       "\n",
       ".sk-estimator-doc-link.fitted span {\n",
       "  /* fitted */\n",
       "  background: var(--sklearn-color-fitted-level-0);\n",
       "  border: var(--sklearn-color-fitted-level-3);\n",
       "}\n",
       "\n",
       ".sk-estimator-doc-link:hover span {\n",
       "  display: block;\n",
       "}\n",
       "\n",
       "/* \"?\"-specific style due to the `<a>` HTML tag */\n",
       "\n",
       "#sk-container-id-1 a.estimator_doc_link {\n",
       "  float: right;\n",
       "  font-size: 1rem;\n",
       "  line-height: 1em;\n",
       "  font-family: monospace;\n",
       "  background-color: var(--sklearn-color-background);\n",
       "  border-radius: 1rem;\n",
       "  height: 1rem;\n",
       "  width: 1rem;\n",
       "  text-decoration: none;\n",
       "  /* unfitted */\n",
       "  color: var(--sklearn-color-unfitted-level-1);\n",
       "  border: var(--sklearn-color-unfitted-level-1) 1pt solid;\n",
       "}\n",
       "\n",
       "#sk-container-id-1 a.estimator_doc_link.fitted {\n",
       "  /* fitted */\n",
       "  border: var(--sklearn-color-fitted-level-1) 1pt solid;\n",
       "  color: var(--sklearn-color-fitted-level-1);\n",
       "}\n",
       "\n",
       "/* On hover */\n",
       "#sk-container-id-1 a.estimator_doc_link:hover {\n",
       "  /* unfitted */\n",
       "  background-color: var(--sklearn-color-unfitted-level-3);\n",
       "  color: var(--sklearn-color-background);\n",
       "  text-decoration: none;\n",
       "}\n",
       "\n",
       "#sk-container-id-1 a.estimator_doc_link.fitted:hover {\n",
       "  /* fitted */\n",
       "  background-color: var(--sklearn-color-fitted-level-3);\n",
       "}\n",
       "</style><div id=\"sk-container-id-1\" class=\"sk-top-container\"><div class=\"sk-text-repr-fallback\"><pre>LinearRegression()</pre><b>In a Jupyter environment, please rerun this cell to show the HTML representation or trust the notebook. <br />On GitHub, the HTML representation is unable to render, please try loading this page with nbviewer.org.</b></div><div class=\"sk-container\" hidden><div class=\"sk-item\"><div class=\"sk-estimator fitted sk-toggleable\"><input class=\"sk-toggleable__control sk-hidden--visually\" id=\"sk-estimator-id-1\" type=\"checkbox\" checked><label for=\"sk-estimator-id-1\" class=\"sk-toggleable__label fitted sk-toggleable__label-arrow fitted\">&nbsp;&nbsp;LinearRegression<a class=\"sk-estimator-doc-link fitted\" rel=\"noreferrer\" target=\"_blank\" href=\"https://scikit-learn.org/1.4/modules/generated/sklearn.linear_model.LinearRegression.html\">?<span>Documentation for LinearRegression</span></a><span class=\"sk-estimator-doc-link fitted\">i<span>Fitted</span></span></label><div class=\"sk-toggleable__content fitted\"><pre>LinearRegression()</pre></div> </div></div></div></div>"
      ],
      "text/plain": [
       "LinearRegression()"
      ]
     },
     "execution_count": 50,
     "metadata": {},
     "output_type": "execute_result"
    }
   ],
   "source": [
    "modelo.fit(X_train,y_train)"
   ]
  },
  {
   "cell_type": "markdown",
   "metadata": {},
   "source": [
    "se calcula R² del modelo desde sklear "
   ]
  },
  {
   "cell_type": "code",
   "execution_count": 51,
   "metadata": {},
   "outputs": [
    {
     "name": "stdout",
     "output_type": "stream",
     "text": [
      "R² = 0.803\n"
     ]
    }
   ],
   "source": [
    "print(\"R² = {}\".format(modelo.score(X_train,y_train).round(3)))"
   ]
  },
  {
   "cell_type": "markdown",
   "metadata": {},
   "source": [
    "Se generan las predicciones en base a los datos de pruebas"
   ]
  },
  {
   "cell_type": "code",
   "execution_count": 52,
   "metadata": {},
   "outputs": [],
   "source": [
    "y_predicho = modelo.predict(X_test)"
   ]
  },
  {
   "cell_type": "markdown",
   "metadata": {},
   "source": [
    "gracias a esas predicciones se pueden especular el R² de los datos de prueba"
   ]
  },
  {
   "cell_type": "code",
   "execution_count": 53,
   "metadata": {},
   "outputs": [
    {
     "name": "stdout",
     "output_type": "stream",
     "text": [
      "R² = 0.788\n"
     ]
    }
   ],
   "source": [
    "print(\"R² = {}\".format(metrics.r2_score(y_test,y_predicho).round(3)))"
   ]
  },
  {
   "cell_type": "markdown",
   "metadata": {},
   "source": [
    "Ya que el R² de los datos de prueba es cercano al R² de los datos de entrenamientos, se puede deducir que se estan obteniendo predicciones adecuadas"
   ]
  },
  {
   "cell_type": "markdown",
   "metadata": {},
   "source": [
    "## Se comparan datos reales con las predicciones obtenidas"
   ]
  },
  {
   "cell_type": "code",
   "execution_count": 54,
   "metadata": {},
   "outputs": [
    {
     "data": {
      "text/html": [
       "<div>\n",
       "<style scoped>\n",
       "    .dataframe tbody tr th:only-of-type {\n",
       "        vertical-align: middle;\n",
       "    }\n",
       "\n",
       "    .dataframe tbody tr th {\n",
       "        vertical-align: top;\n",
       "    }\n",
       "\n",
       "    .dataframe thead th {\n",
       "        text-align: right;\n",
       "    }\n",
       "</style>\n",
       "<table border=\"1\" class=\"dataframe\">\n",
       "  <thead>\n",
       "    <tr style=\"text-align: right;\">\n",
       "      <th></th>\n",
       "      <th>Log_Area</th>\n",
       "      <th>Log_Dist_Playa</th>\n",
       "    </tr>\n",
       "  </thead>\n",
       "  <tbody>\n",
       "    <tr>\n",
       "      <th>1006</th>\n",
       "      <td>5.273</td>\n",
       "      <td>1.527493</td>\n",
       "    </tr>\n",
       "  </tbody>\n",
       "</table>\n",
       "</div>"
      ],
      "text/plain": [
       "      Log_Area  Log_Dist_Playa\n",
       "1006     5.273        1.527493"
      ]
     },
     "execution_count": 54,
     "metadata": {},
     "output_type": "execute_result"
    }
   ],
   "source": [
    "entrada = X_test[0:1]\n",
    "entrada"
   ]
  },
  {
   "cell_type": "code",
   "execution_count": 55,
   "metadata": {},
   "outputs": [
    {
     "data": {
      "text/plain": [
       "12.633314444072479"
      ]
     },
     "execution_count": 55,
     "metadata": {},
     "output_type": "execute_result"
    }
   ],
   "source": [
    "modelo.predict(entrada)[0]"
   ]
  },
  {
   "cell_type": "markdown",
   "metadata": {},
   "source": [
    "Una vez obtenido el valor es necesario recordar que se realizo la transformacion logaritmica por lo que sera necesario volver al sistema normal"
   ]
  },
  {
   "cell_type": "code",
   "execution_count": 56,
   "metadata": {},
   "outputs": [
    {
     "data": {
      "text/plain": [
       "306604.65994230803"
      ]
     },
     "execution_count": 56,
     "metadata": {},
     "output_type": "execute_result"
    }
   ],
   "source": [
    "np.exp(modelo.predict(entrada)[0])"
   ]
  },
  {
   "cell_type": "markdown",
   "metadata": {},
   "source": [
    "## Crear un simulador simple "
   ]
  },
  {
   "cell_type": "code",
   "execution_count": 58,
   "metadata": {},
   "outputs": [
    {
     "name": "stdout",
     "output_type": "stream",
     "text": [
      "US 326343.58\n"
     ]
    },
    {
     "name": "stderr",
     "output_type": "stream",
     "text": [
      "c:\\Python311\\Lib\\site-packages\\sklearn\\base.py:493: UserWarning: X does not have valid feature names, but LinearRegression was fitted with feature names\n",
      "  warnings.warn(\n"
     ]
    }
   ],
   "source": [
    "Area = 150\n",
    "Dist_playa = 1\n",
    "\n",
    "entrada = [[np.log(Area),np.log(Dist_playa)+1]]\n",
    "print(\"US {}\".format(np.exp(modelo.predict(entrada)[0]).round(2)))"
   ]
  }
 ],
 "metadata": {
  "kernelspec": {
   "display_name": "Python 3",
   "language": "python",
   "name": "python3"
  },
  "language_info": {
   "codemirror_mode": {
    "name": "ipython",
    "version": 3
   },
   "file_extension": ".py",
   "mimetype": "text/x-python",
   "name": "python",
   "nbconvert_exporter": "python",
   "pygments_lexer": "ipython3",
   "version": "3.11.5"
  }
 },
 "nbformat": 4,
 "nbformat_minor": 2
}
